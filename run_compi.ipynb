{
  "nbformat": 4,
  "nbformat_minor": 0,
  "metadata": {
    "colab": {
      "provenance": [],
      "machine_shape": "hm",
      "gpuType": "T4"
    },
    "kernelspec": {
      "name": "python3",
      "display_name": "Python 3"
    },
    "language_info": {
      "name": "python"
    },
    "accelerator": "GPU"
  },
  "cells": [
    {
      "cell_type": "markdown",
      "source": [
        "###ATTENTION:\n",
        "- This set up runs only on GPU"
      ],
      "metadata": {
        "id": "1cigEnzBZrGa"
      }
    },
    {
      "cell_type": "code",
      "source": [
        "from google.colab import drive\n",
        "drive.mount('/content/drive')"
      ],
      "metadata": {
        "colab": {
          "base_uri": "https://localhost:8080/"
        },
        "id": "_j-JCMaAPMBR",
        "outputId": "e0f45b0b-e3f4-4cdc-c992-7d25f9faf651"
      },
      "execution_count": 1,
      "outputs": [
        {
          "output_type": "stream",
          "name": "stdout",
          "text": [
            "Mounted at /content/drive\n"
          ]
        }
      ]
    },
    {
      "cell_type": "code",
      "source": [
        "!apt-get install python3.8 python3.8-distutils"
      ],
      "metadata": {
        "id": "GB_rJU0sPNAP"
      },
      "execution_count": null,
      "outputs": []
    },
    {
      "cell_type": "code",
      "source": [
        "!update-alternatives --install /usr/bin/python3 python3 /usr/bin/python3.8 1"
      ],
      "metadata": {
        "colab": {
          "base_uri": "https://localhost:8080/"
        },
        "id": "WYzNT9yPPoGV",
        "outputId": "6427cde8-524c-4477-e1ab-f5830c07cf8e"
      },
      "execution_count": 3,
      "outputs": [
        {
          "output_type": "stream",
          "name": "stdout",
          "text": [
            "update-alternatives: using /usr/bin/python3.8 to provide /usr/bin/python3 (python3) in auto mode\n"
          ]
        }
      ]
    },
    {
      "cell_type": "code",
      "source": [
        "!apt-get install python3-pip\n",
        "!python3 -m pip install --upgrade pip --user"
      ],
      "metadata": {
        "id": "-HUvA2dKQhnV"
      },
      "execution_count": null,
      "outputs": []
    },
    {
      "cell_type": "code",
      "source": [
        "%cd /content/drive/MyDrive/COMPI_Project/T3SC"
      ],
      "metadata": {
        "colab": {
          "base_uri": "https://localhost:8080/"
        },
        "id": "15DfH7goQ5me",
        "outputId": "24c0b4b2-788f-4583-e8f7-27f202039663"
      },
      "execution_count": 8,
      "outputs": [
        {
          "output_type": "stream",
          "name": "stdout",
          "text": [
            "/content/drive/MyDrive/COMPI_Project/T3SC\n"
          ]
        }
      ]
    },
    {
      "cell_type": "code",
      "source": [
        "!pip install -r requirements.txt"
      ],
      "metadata": {
        "id": "NG5r-WryTrX0"
      },
      "execution_count": null,
      "outputs": []
    },
    {
      "cell_type": "code",
      "source": [
        "!pip install torch==1.9.1+cu111 torchvision==0.10.1+cu111 torchaudio==0.9.1 -f https://download.pytorch.org/whl/torch_stable.html\n",
        "!pip install torchmetrics==0.6.0\n",
        "!pip install setuptools==59.5.0"
      ],
      "metadata": {
        "id": "6UynqF4AT9r2"
      },
      "execution_count": null,
      "outputs": []
    },
    {
      "cell_type": "code",
      "source": [
        "!python main.py mode=test data=icvl noise=stripes model.ckpt=icvl_stripes.ckpt model.beta=1 +save_rgb=1"
      ],
      "metadata": {
        "colab": {
          "base_uri": "https://localhost:8080/"
        },
        "id": "jamJ8vCmYQjr",
        "outputId": "ac998806-d6ac-4250-c889-ab57da94d106"
      },
      "execution_count": 20,
      "outputs": [
        {
          "output_type": "stream",
          "name": "stdout",
          "text": [
            "/usr/local/lib/python3.8/dist-packages/hydra/_internal/defaults_list.py:251: UserWarning: In 'config': Defaults list is missing `_self_`. See https://hydra.cc/docs/upgrades/1.0_to_1.1/default_composition_order for more information\n",
            "  warnings.warn(msg, UserWarning)\n",
            "[__main__][INFO] - Current working directory : /content/drive/MyDrive/COMPI_Project/T3SC/data/tests/2024-03-17_22-49-56/T3SC_icvl_StripesNoise-s25-i0.5_beta1_ssl0_seed0\n",
            "[t3sc.test][INFO] - Device in use : cuda\n",
            "[t3sc.test][INFO] - Using random seed 0\n",
            "Global seed set to 0\n",
            "[t3sc.data.factories.icvl][INFO] - Dataset downloaded\n",
            "[t3sc.models.multilayer][INFO] - Using SSL : 0\n",
            "[t3sc.models.multilayer][INFO] - Loading ckpt 'icvl_stripes.ckpt'\n",
            "[t3sc.models.base][INFO] - Model parameters:\n",
            "\tlayers.0.C.0 : 1984\n",
            "\tlayers.0.C.1 : 64\n",
            "\tlayers.0.D.0 : 1984\n",
            "\tlayers.0.D.1 : 64\n",
            "\tlayers.0.W.0 : 1984\n",
            "\tlayers.0.W.1 : 64\n",
            "\tlayers.0.thresholds.lbda.0 : 64\n",
            "\tlayers.0.thresholds.lbda.1 : 64\n",
            "\tlayers.0.thresholds.lbda.2 : 64\n",
            "\tlayers.0.thresholds.lbda.3 : 64\n",
            "\tlayers.0.thresholds.lbda.4 : 64\n",
            "\tlayers.0.thresholds.lbda.5 : 64\n",
            "\tlayers.0.thresholds.lbda.6 : 64\n",
            "\tlayers.0.thresholds.lbda.7 : 64\n",
            "\tlayers.0.thresholds.lbda.8 : 64\n",
            "\tlayers.0.thresholds.lbda.9 : 64\n",
            "\tlayers.0.thresholds.lbda.10 : 64\n",
            "\tlayers.0.thresholds.lbda.11 : 64\n",
            "\tlayers.0.beta_estimator.0.weight : 1600\n",
            "\tlayers.0.beta_estimator.0.bias : 64\n",
            "\tlayers.0.beta_estimator.3.weight : 73728\n",
            "\tlayers.0.beta_estimator.3.bias : 128\n",
            "\tlayers.0.beta_estimator.6.weight : 1152\n",
            "\tlayers.0.beta_estimator.6.bias : 1\n",
            "\tlayers.1.C.0 : 196608\n",
            "\tlayers.1.C.1 : 76800\n",
            "\tlayers.1.D.0 : 196608\n",
            "\tlayers.1.D.1 : 76800\n",
            "\tlayers.1.W.0 : 196608\n",
            "\tlayers.1.W.1 : 76800\n",
            "\tlayers.1.thresholds.lbda.0 : 1024\n",
            "\tlayers.1.thresholds.lbda.1 : 1024\n",
            "\tlayers.1.thresholds.lbda.2 : 1024\n",
            "\tlayers.1.thresholds.lbda.3 : 1024\n",
            "\tlayers.1.thresholds.lbda.4 : 1024\n",
            "Total number of learnable parameters : 908929\n",
            "\n",
            "/usr/local/lib/python3.8/dist-packages/pytorch_lightning/core/datamodule.py:423: LightningDeprecationWarning: DataModule.setup has already been called, so it will not be called again. In v1.6 this behavior will change to always call DataModule.setup.\n",
            "  rank_zero_deprecation(\n",
            "[t3sc.utils.tester][INFO] - Image ID 1/4: 4cam_0411-1648\n",
            "[t3sc.utils.tester][INFO] - \tPSNR : in=20.5988, out=41.8699\n",
            "[t3sc.utils.tester][INFO] - \tMFSIM : in=0.9321, out=0.9960\n",
            "[t3sc.utils.tester][INFO] - \tMERGAS : in=21.1997, out=1.6496\n",
            "[t3sc.utils.tester][INFO] - \tMSSIM : in=0.1545, out=0.9719\n",
            "[t3sc.utils.tester][INFO] - \tMSAM : in=0.4574, out=0.0348\n",
            "[t3sc.utils.tester][INFO] - \tMPSNR : in=20.6464, out=42.4605\n",
            "[t3sc.utils.tester][INFO] - Image metrics :\n",
            "[t3sc.utils.tester][INFO] - Image ID 2/4: BGU_0403-1419-1\n",
            "[t3sc.utils.tester][INFO] - \tPSNR : in=20.9314, out=42.7576\n",
            "[t3sc.utils.tester][INFO] - \tMFSIM : in=0.9449, out=0.9966\n",
            "[t3sc.utils.tester][INFO] - \tMERGAS : in=25.9130, out=1.8642\n",
            "[t3sc.utils.tester][INFO] - \tMSSIM : in=0.1783, out=0.9788\n",
            "[t3sc.utils.tester][INFO] - \tMSAM : in=0.5592, out=0.0416\n",
            "[t3sc.utils.tester][INFO] - \tMPSNR : in=20.9940, out=43.3256\n",
            "[t3sc.utils.tester][INFO] - Image metrics :\n",
            "[t3sc.utils.tester][INFO] - Image ID 3/4: BGU_0522-1113-1\n",
            "[t3sc.utils.tester][INFO] - \tPSNR : in=20.6571, out=43.4282\n",
            "[t3sc.utils.tester][INFO] - \tMFSIM : in=0.9004, out=0.9971\n",
            "[t3sc.utils.tester][INFO] - \tMERGAS : in=22.3642, out=1.5489\n",
            "[t3sc.utils.tester][INFO] - \tMSSIM : in=0.1600, out=0.9832\n",
            "[t3sc.utils.tester][INFO] - \tMSAM : in=0.4948, out=0.0310\n",
            "[t3sc.utils.tester][INFO] - \tMPSNR : in=20.6846, out=43.7599\n",
            "[t3sc.utils.tester][INFO] - Image metrics :\n",
            "[t3sc.utils.tester][INFO] - Image ID 4/4: Labtest_0910-1502\n",
            "[t3sc.utils.tester][INFO] - \tPSNR : in=21.7640, out=45.1854\n",
            "[t3sc.utils.tester][INFO] - \tMFSIM : in=0.9173, out=0.9970\n",
            "[t3sc.utils.tester][INFO] - \tMERGAS : in=33.8858, out=2.0390\n",
            "[t3sc.utils.tester][INFO] - \tMSSIM : in=0.1542, out=0.9809\n",
            "[t3sc.utils.tester][INFO] - \tMSAM : in=0.7674, out=0.0905\n",
            "[t3sc.utils.tester][INFO] - \tMPSNR : in=21.7942, out=45.7531\n",
            "[t3sc.utils.tester][INFO] - Image metrics :\n",
            "[t3sc.utils.tester][INFO] - ----------------\n",
            "[t3sc.utils.tester][INFO] - Global metrics :\n",
            "[t3sc.utils.tester][INFO] - \tINFERENCE_TIME : 19.9935\n",
            "[t3sc.utils.tester][INFO] - \tPSNR : in=20.9878, out=43.3103\n",
            "[t3sc.utils.tester][INFO] - \tMFSIM : in=0.9237, out=0.9967\n",
            "[t3sc.utils.tester][INFO] - \tMERGAS : in=25.8407, out=1.7754\n",
            "[t3sc.utils.tester][INFO] - \tMSSIM : in=0.1618, out=0.9787\n",
            "[t3sc.utils.tester][INFO] - \tMSAM : in=0.5697, out=0.0495\n",
            "[t3sc.utils.tester][INFO] - \tMPSNR : in=21.0298, out=43.8248\n",
            "[t3sc.utils.tester][INFO] - Metrics saved to 'test_metrics.json'\n",
            "[t3sc.utils.tester][INFO] - Current workdir : /content/drive/MyDrive/COMPI_Project/T3SC/data/tests/2024-03-17_22-49-56/T3SC_icvl_StripesNoise-s25-i0.5_beta1_ssl0_seed0\n"
          ]
        }
      ]
    },
    {
      "cell_type": "code",
      "source": [],
      "metadata": {
        "id": "cAl7qdkzZUN3"
      },
      "execution_count": null,
      "outputs": []
    }
  ]
}